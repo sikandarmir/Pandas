{
 "cells": [
  {
   "cell_type": "markdown",
   "id": "bf1da59a",
   "metadata": {},
   "source": [
    "### Time Series\n",
    "Timeseries is a set of data points indexed in time order."
   ]
  },
  {
   "cell_type": "code",
   "execution_count": 1,
   "id": "885a6280",
   "metadata": {},
   "outputs": [],
   "source": [
    "import pandas as pd"
   ]
  },
  {
   "cell_type": "code",
   "execution_count": 5,
   "id": "19c9462e",
   "metadata": {},
   "outputs": [
    {
     "data": {
      "text/html": [
       "<div>\n",
       "<style scoped>\n",
       "    .dataframe tbody tr th:only-of-type {\n",
       "        vertical-align: middle;\n",
       "    }\n",
       "\n",
       "    .dataframe tbody tr th {\n",
       "        vertical-align: top;\n",
       "    }\n",
       "\n",
       "    .dataframe thead th {\n",
       "        text-align: right;\n",
       "    }\n",
       "</style>\n",
       "<table border=\"1\" class=\"dataframe\">\n",
       "  <thead>\n",
       "    <tr style=\"text-align: right;\">\n",
       "      <th></th>\n",
       "      <th>Open</th>\n",
       "      <th>High</th>\n",
       "      <th>Low</th>\n",
       "      <th>Close</th>\n",
       "      <th>Volume</th>\n",
       "    </tr>\n",
       "    <tr>\n",
       "      <th>Date</th>\n",
       "      <th></th>\n",
       "      <th></th>\n",
       "      <th></th>\n",
       "      <th></th>\n",
       "      <th></th>\n",
       "    </tr>\n",
       "  </thead>\n",
       "  <tbody>\n",
       "    <tr>\n",
       "      <th>2017-07-07</th>\n",
       "      <td>142.90</td>\n",
       "      <td>144.75</td>\n",
       "      <td>142.90</td>\n",
       "      <td>144.18</td>\n",
       "      <td>19201712</td>\n",
       "    </tr>\n",
       "    <tr>\n",
       "      <th>2017-07-08</th>\n",
       "      <td>143.02</td>\n",
       "      <td>143.50</td>\n",
       "      <td>142.41</td>\n",
       "      <td>142.73</td>\n",
       "      <td>24128782</td>\n",
       "    </tr>\n",
       "  </tbody>\n",
       "</table>\n",
       "</div>"
      ],
      "text/plain": [
       "              Open    High     Low   Close    Volume\n",
       "Date                                                \n",
       "2017-07-07  142.90  144.75  142.90  144.18  19201712\n",
       "2017-07-08  143.02  143.50  142.41  142.73  24128782"
      ]
     },
     "execution_count": 5,
     "metadata": {},
     "output_type": "execute_result"
    }
   ],
   "source": [
    "df = pd.read_csv(\"apple.csv\",parse_dates=[\"Date\"], index_col=\"Date\")\n",
    "df.head(2)"
   ]
  },
  {
   "cell_type": "code",
   "execution_count": 40,
   "id": "f65d16a3",
   "metadata": {},
   "outputs": [
    {
     "data": {
      "text/plain": [
       "DatetimeIndex(['2017-07-07', '2017-07-08', '2017-07-09', '2017-07-10',\n",
       "               '2017-07-11', '2017-07-12', '2017-07-13', '2017-07-14',\n",
       "               '2017-07-15', '2017-07-16',\n",
       "               ...\n",
       "               '2018-03-05', '2018-03-06', '2018-03-07', '2018-03-08',\n",
       "               '2018-03-09', '2018-03-10', '2018-03-11', '2018-03-12',\n",
       "               '2018-03-13', '2018-03-14'],\n",
       "              dtype='datetime64[ns]', name='Date', length=251, freq=None)"
      ]
     },
     "execution_count": 40,
     "metadata": {},
     "output_type": "execute_result"
    }
   ],
   "source": [
    "df.index"
   ]
  },
  {
   "cell_type": "code",
   "execution_count": 50,
   "id": "481737bf",
   "metadata": {},
   "outputs": [
    {
     "data": {
      "text/html": [
       "<div>\n",
       "<style scoped>\n",
       "    .dataframe tbody tr th:only-of-type {\n",
       "        vertical-align: middle;\n",
       "    }\n",
       "\n",
       "    .dataframe tbody tr th {\n",
       "        vertical-align: top;\n",
       "    }\n",
       "\n",
       "    .dataframe thead th {\n",
       "        text-align: right;\n",
       "    }\n",
       "</style>\n",
       "<table border=\"1\" class=\"dataframe\">\n",
       "  <thead>\n",
       "    <tr style=\"text-align: right;\">\n",
       "      <th></th>\n",
       "      <th>Open</th>\n",
       "      <th>High</th>\n",
       "      <th>Low</th>\n",
       "      <th>Close</th>\n",
       "      <th>Volume</th>\n",
       "    </tr>\n",
       "    <tr>\n",
       "      <th>Date</th>\n",
       "      <th></th>\n",
       "      <th></th>\n",
       "      <th></th>\n",
       "      <th></th>\n",
       "      <th></th>\n",
       "    </tr>\n",
       "  </thead>\n",
       "  <tbody>\n",
       "    <tr>\n",
       "      <th>2017-12-01</th>\n",
       "      <td>110.00</td>\n",
       "      <td>110.03</td>\n",
       "      <td>108.25</td>\n",
       "      <td>109.11</td>\n",
       "      <td>34324540</td>\n",
       "    </tr>\n",
       "    <tr>\n",
       "      <th>2017-12-02</th>\n",
       "      <td>109.17</td>\n",
       "      <td>110.09</td>\n",
       "      <td>108.85</td>\n",
       "      <td>109.90</td>\n",
       "      <td>26527997</td>\n",
       "    </tr>\n",
       "    <tr>\n",
       "      <th>2017-12-03</th>\n",
       "      <td>110.36</td>\n",
       "      <td>110.94</td>\n",
       "      <td>109.03</td>\n",
       "      <td>109.49</td>\n",
       "      <td>37086862</td>\n",
       "    </tr>\n",
       "    <tr>\n",
       "      <th>2017-12-04</th>\n",
       "      <td>111.60</td>\n",
       "      <td>112.20</td>\n",
       "      <td>110.27</td>\n",
       "      <td>110.52</td>\n",
       "      <td>36162258</td>\n",
       "    </tr>\n",
       "    <tr>\n",
       "      <th>2017-12-05</th>\n",
       "      <td>110.78</td>\n",
       "      <td>112.03</td>\n",
       "      <td>110.07</td>\n",
       "      <td>111.46</td>\n",
       "      <td>28528750</td>\n",
       "    </tr>\n",
       "    <tr>\n",
       "      <th>2017-12-06</th>\n",
       "      <td>111.43</td>\n",
       "      <td>112.46</td>\n",
       "      <td>111.39</td>\n",
       "      <td>111.57</td>\n",
       "      <td>27193983</td>\n",
       "    </tr>\n",
       "    <tr>\n",
       "      <th>2017-12-07</th>\n",
       "      <td>111.47</td>\n",
       "      <td>111.87</td>\n",
       "      <td>110.95</td>\n",
       "      <td>111.79</td>\n",
       "      <td>11475922</td>\n",
       "    </tr>\n",
       "    <tr>\n",
       "      <th>2017-12-08</th>\n",
       "      <td>111.36</td>\n",
       "      <td>111.51</td>\n",
       "      <td>110.33</td>\n",
       "      <td>111.23</td>\n",
       "      <td>27426394</td>\n",
       "    </tr>\n",
       "    <tr>\n",
       "      <th>2017-12-09</th>\n",
       "      <td>111.95</td>\n",
       "      <td>112.42</td>\n",
       "      <td>111.40</td>\n",
       "      <td>111.80</td>\n",
       "      <td>25965534</td>\n",
       "    </tr>\n",
       "    <tr>\n",
       "      <th>2017-12-10</th>\n",
       "      <td>110.12</td>\n",
       "      <td>111.99</td>\n",
       "      <td>110.01</td>\n",
       "      <td>111.73</td>\n",
       "      <td>29264571</td>\n",
       "    </tr>\n",
       "    <tr>\n",
       "      <th>2017-12-11</th>\n",
       "      <td>109.72</td>\n",
       "      <td>110.54</td>\n",
       "      <td>109.66</td>\n",
       "      <td>110.06</td>\n",
       "      <td>28428917</td>\n",
       "    </tr>\n",
       "    <tr>\n",
       "      <th>2017-12-12</th>\n",
       "      <td>109.81</td>\n",
       "      <td>110.35</td>\n",
       "      <td>108.83</td>\n",
       "      <td>109.95</td>\n",
       "      <td>26964598</td>\n",
       "    </tr>\n",
       "    <tr>\n",
       "      <th>2017-12-13</th>\n",
       "      <td>106.70</td>\n",
       "      <td>110.23</td>\n",
       "      <td>106.60</td>\n",
       "      <td>109.99</td>\n",
       "      <td>58840522</td>\n",
       "    </tr>\n",
       "    <tr>\n",
       "      <th>2017-12-14</th>\n",
       "      <td>106.57</td>\n",
       "      <td>107.68</td>\n",
       "      <td>106.16</td>\n",
       "      <td>107.11</td>\n",
       "      <td>32264510</td>\n",
       "    </tr>\n",
       "    <tr>\n",
       "      <th>2017-12-15</th>\n",
       "      <td>107.71</td>\n",
       "      <td>107.81</td>\n",
       "      <td>104.08</td>\n",
       "      <td>105.71</td>\n",
       "      <td>51175504</td>\n",
       "    </tr>\n",
       "    <tr>\n",
       "      <th>2017-12-16</th>\n",
       "      <td>107.12</td>\n",
       "      <td>108.87</td>\n",
       "      <td>106.55</td>\n",
       "      <td>108.43</td>\n",
       "      <td>34143898</td>\n",
       "    </tr>\n",
       "    <tr>\n",
       "      <th>2017-12-17</th>\n",
       "      <td>111.09</td>\n",
       "      <td>111.09</td>\n",
       "      <td>105.83</td>\n",
       "      <td>107.79</td>\n",
       "      <td>57134541</td>\n",
       "    </tr>\n",
       "    <tr>\n",
       "      <th>2017-12-18</th>\n",
       "      <td>109.88</td>\n",
       "      <td>111.32</td>\n",
       "      <td>108.05</td>\n",
       "      <td>110.88</td>\n",
       "      <td>59176361</td>\n",
       "    </tr>\n",
       "    <tr>\n",
       "      <th>2017-12-19</th>\n",
       "      <td>110.31</td>\n",
       "      <td>111.72</td>\n",
       "      <td>109.70</td>\n",
       "      <td>111.06</td>\n",
       "      <td>24254179</td>\n",
       "    </tr>\n",
       "    <tr>\n",
       "      <th>2017-12-20</th>\n",
       "      <td>110.08</td>\n",
       "      <td>110.51</td>\n",
       "      <td>109.46</td>\n",
       "      <td>110.41</td>\n",
       "      <td>32560000</td>\n",
       "    </tr>\n",
       "    <tr>\n",
       "      <th>2017-12-21</th>\n",
       "      <td>108.53</td>\n",
       "      <td>110.25</td>\n",
       "      <td>108.11</td>\n",
       "      <td>108.84</td>\n",
       "      <td>30836997</td>\n",
       "    </tr>\n",
       "    <tr>\n",
       "      <th>2017-12-22</th>\n",
       "      <td>110.98</td>\n",
       "      <td>111.46</td>\n",
       "      <td>109.55</td>\n",
       "      <td>109.83</td>\n",
       "      <td>26932602</td>\n",
       "    </tr>\n",
       "    <tr>\n",
       "      <th>2017-12-23</th>\n",
       "      <td>111.40</td>\n",
       "      <td>112.35</td>\n",
       "      <td>111.23</td>\n",
       "      <td>111.59</td>\n",
       "      <td>28331709</td>\n",
       "    </tr>\n",
       "    <tr>\n",
       "      <th>2017-12-24</th>\n",
       "      <td>113.46</td>\n",
       "      <td>113.77</td>\n",
       "      <td>110.53</td>\n",
       "      <td>111.49</td>\n",
       "      <td>43825812</td>\n",
       "    </tr>\n",
       "    <tr>\n",
       "      <th>2017-12-25</th>\n",
       "      <td>113.65</td>\n",
       "      <td>114.23</td>\n",
       "      <td>113.20</td>\n",
       "      <td>113.54</td>\n",
       "      <td>26419398</td>\n",
       "    </tr>\n",
       "    <tr>\n",
       "      <th>2017-12-26</th>\n",
       "      <td>113.87</td>\n",
       "      <td>115.21</td>\n",
       "      <td>113.45</td>\n",
       "      <td>113.72</td>\n",
       "      <td>37861662</td>\n",
       "    </tr>\n",
       "    <tr>\n",
       "      <th>2017-12-27</th>\n",
       "      <td>115.39</td>\n",
       "      <td>115.86</td>\n",
       "      <td>114.10</td>\n",
       "      <td>114.48</td>\n",
       "      <td>34562045</td>\n",
       "    </tr>\n",
       "    <tr>\n",
       "      <th>2017-12-28</th>\n",
       "      <td>114.31</td>\n",
       "      <td>115.70</td>\n",
       "      <td>113.31</td>\n",
       "      <td>115.59</td>\n",
       "      <td>66134219</td>\n",
       "    </tr>\n",
       "    <tr>\n",
       "      <th>2017-12-29</th>\n",
       "      <td>117.95</td>\n",
       "      <td>118.36</td>\n",
       "      <td>117.31</td>\n",
       "      <td>118.25</td>\n",
       "      <td>48128970</td>\n",
       "    </tr>\n",
       "    <tr>\n",
       "      <th>2017-12-30</th>\n",
       "      <td>117.10</td>\n",
       "      <td>117.74</td>\n",
       "      <td>117.00</td>\n",
       "      <td>117.65</td>\n",
       "      <td>23538673</td>\n",
       "    </tr>\n",
       "    <tr>\n",
       "      <th>2017-12-31</th>\n",
       "      <td>116.81</td>\n",
       "      <td>116.91</td>\n",
       "      <td>116.28</td>\n",
       "      <td>116.60</td>\n",
       "      <td>23192665</td>\n",
       "    </tr>\n",
       "  </tbody>\n",
       "</table>\n",
       "</div>"
      ],
      "text/plain": [
       "              Open    High     Low   Close    Volume\n",
       "Date                                                \n",
       "2017-12-01  110.00  110.03  108.25  109.11  34324540\n",
       "2017-12-02  109.17  110.09  108.85  109.90  26527997\n",
       "2017-12-03  110.36  110.94  109.03  109.49  37086862\n",
       "2017-12-04  111.60  112.20  110.27  110.52  36162258\n",
       "2017-12-05  110.78  112.03  110.07  111.46  28528750\n",
       "2017-12-06  111.43  112.46  111.39  111.57  27193983\n",
       "2017-12-07  111.47  111.87  110.95  111.79  11475922\n",
       "2017-12-08  111.36  111.51  110.33  111.23  27426394\n",
       "2017-12-09  111.95  112.42  111.40  111.80  25965534\n",
       "2017-12-10  110.12  111.99  110.01  111.73  29264571\n",
       "2017-12-11  109.72  110.54  109.66  110.06  28428917\n",
       "2017-12-12  109.81  110.35  108.83  109.95  26964598\n",
       "2017-12-13  106.70  110.23  106.60  109.99  58840522\n",
       "2017-12-14  106.57  107.68  106.16  107.11  32264510\n",
       "2017-12-15  107.71  107.81  104.08  105.71  51175504\n",
       "2017-12-16  107.12  108.87  106.55  108.43  34143898\n",
       "2017-12-17  111.09  111.09  105.83  107.79  57134541\n",
       "2017-12-18  109.88  111.32  108.05  110.88  59176361\n",
       "2017-12-19  110.31  111.72  109.70  111.06  24254179\n",
       "2017-12-20  110.08  110.51  109.46  110.41  32560000\n",
       "2017-12-21  108.53  110.25  108.11  108.84  30836997\n",
       "2017-12-22  110.98  111.46  109.55  109.83  26932602\n",
       "2017-12-23  111.40  112.35  111.23  111.59  28331709\n",
       "2017-12-24  113.46  113.77  110.53  111.49  43825812\n",
       "2017-12-25  113.65  114.23  113.20  113.54  26419398\n",
       "2017-12-26  113.87  115.21  113.45  113.72  37861662\n",
       "2017-12-27  115.39  115.86  114.10  114.48  34562045\n",
       "2017-12-28  114.31  115.70  113.31  115.59  66134219\n",
       "2017-12-29  117.95  118.36  117.31  118.25  48128970\n",
       "2017-12-30  117.10  117.74  117.00  117.65  23538673\n",
       "2017-12-31  116.81  116.91  116.28  116.60  23192665"
      ]
     },
     "execution_count": 50,
     "metadata": {},
     "output_type": "execute_result"
    }
   ],
   "source": [
    "#Retrieve Dec 2017 stock prices\n",
    "df.loc['2017-12']"
   ]
  },
  {
   "cell_type": "code",
   "execution_count": 56,
   "id": "fb70ca05",
   "metadata": {},
   "outputs": [
    {
     "data": {
      "text/plain": [
       "Open           142.90\n",
       "High           144.75\n",
       "Low            142.90\n",
       "Close          144.18\n",
       "Volume    19201712.00\n",
       "Name: 2017-07-07 00:00:00, dtype: float64"
      ]
     },
     "execution_count": 56,
     "metadata": {},
     "output_type": "execute_result"
    }
   ],
   "source": [
    "df.loc['2017-07-07']"
   ]
  },
  {
   "cell_type": "code",
   "execution_count": 54,
   "id": "4e95bc03",
   "metadata": {},
   "outputs": [
    {
     "data": {
      "text/plain": [
       "Open           156.01\n",
       "High           156.65\n",
       "Low            155.05\n",
       "Close          156.10\n",
       "Volume    50767678.00\n",
       "dtype: float64"
      ]
     },
     "execution_count": 54,
     "metadata": {},
     "output_type": "execute_result"
    }
   ],
   "source": [
    "#Find Average price of apple's August  in June 2017 \n",
    "df.loc['2017-08'].max()"
   ]
  },
  {
   "cell_type": "code",
   "execution_count": 55,
   "id": "e657fd53",
   "metadata": {},
   "outputs": [
    {
     "data": {
      "text/plain": [
       "144.18"
      ]
     },
     "execution_count": 55,
     "metadata": {},
     "output_type": "execute_result"
    }
   ],
   "source": [
    "df.loc['2017-07-07'].Close.mean()"
   ]
  },
  {
   "cell_type": "code",
   "execution_count": 57,
   "id": "5a887533",
   "metadata": {},
   "outputs": [
    {
     "name": "stderr",
     "output_type": "stream",
     "text": [
      "C:\\Users\\SIKAND~1\\AppData\\Local\\Temp/ipykernel_672/1799195107.py:1: FutureWarning: Indexing a DataFrame with a datetimelike index using a single string to slice the rows, like `frame[string]`, is deprecated and will be removed in a future version. Use `frame.loc[string]` instead.\n",
      "  df['2017'].head(2)\n"
     ]
    },
    {
     "data": {
      "text/html": [
       "<div>\n",
       "<style scoped>\n",
       "    .dataframe tbody tr th:only-of-type {\n",
       "        vertical-align: middle;\n",
       "    }\n",
       "\n",
       "    .dataframe tbody tr th {\n",
       "        vertical-align: top;\n",
       "    }\n",
       "\n",
       "    .dataframe thead th {\n",
       "        text-align: right;\n",
       "    }\n",
       "</style>\n",
       "<table border=\"1\" class=\"dataframe\">\n",
       "  <thead>\n",
       "    <tr style=\"text-align: right;\">\n",
       "      <th></th>\n",
       "      <th>Open</th>\n",
       "      <th>High</th>\n",
       "      <th>Low</th>\n",
       "      <th>Close</th>\n",
       "      <th>Volume</th>\n",
       "    </tr>\n",
       "    <tr>\n",
       "      <th>Date</th>\n",
       "      <th></th>\n",
       "      <th></th>\n",
       "      <th></th>\n",
       "      <th></th>\n",
       "      <th></th>\n",
       "    </tr>\n",
       "  </thead>\n",
       "  <tbody>\n",
       "    <tr>\n",
       "      <th>2017-07-07</th>\n",
       "      <td>142.90</td>\n",
       "      <td>144.75</td>\n",
       "      <td>142.90</td>\n",
       "      <td>144.18</td>\n",
       "      <td>19201712</td>\n",
       "    </tr>\n",
       "    <tr>\n",
       "      <th>2017-07-08</th>\n",
       "      <td>143.02</td>\n",
       "      <td>143.50</td>\n",
       "      <td>142.41</td>\n",
       "      <td>142.73</td>\n",
       "      <td>24128782</td>\n",
       "    </tr>\n",
       "  </tbody>\n",
       "</table>\n",
       "</div>"
      ],
      "text/plain": [
       "              Open    High     Low   Close    Volume\n",
       "Date                                                \n",
       "2017-07-07  142.90  144.75  142.90  144.18  19201712\n",
       "2017-07-08  143.02  143.50  142.41  142.73  24128782"
      ]
     },
     "execution_count": 57,
     "metadata": {},
     "output_type": "execute_result"
    }
   ],
   "source": [
    "df['2017'].head(2) "
   ]
  },
  {
   "cell_type": "markdown",
   "id": "31e7a3c9",
   "metadata": {},
   "source": [
    "### Select Date Range"
   ]
  },
  {
   "cell_type": "code",
   "execution_count": 63,
   "id": "4ded4d8a",
   "metadata": {},
   "outputs": [
    {
     "data": {
      "text/html": [
       "<div>\n",
       "<style scoped>\n",
       "    .dataframe tbody tr th:only-of-type {\n",
       "        vertical-align: middle;\n",
       "    }\n",
       "\n",
       "    .dataframe tbody tr th {\n",
       "        vertical-align: top;\n",
       "    }\n",
       "\n",
       "    .dataframe thead th {\n",
       "        text-align: right;\n",
       "    }\n",
       "</style>\n",
       "<table border=\"1\" class=\"dataframe\">\n",
       "  <thead>\n",
       "    <tr style=\"text-align: right;\">\n",
       "      <th></th>\n",
       "      <th>Open</th>\n",
       "      <th>High</th>\n",
       "      <th>Low</th>\n",
       "      <th>Close</th>\n",
       "      <th>Volume</th>\n",
       "    </tr>\n",
       "    <tr>\n",
       "      <th>Date</th>\n",
       "      <th></th>\n",
       "      <th></th>\n",
       "      <th></th>\n",
       "      <th></th>\n",
       "      <th></th>\n",
       "    </tr>\n",
       "  </thead>\n",
       "  <tbody>\n",
       "    <tr>\n",
       "      <th>2017-08-01</th>\n",
       "      <td>153.17</td>\n",
       "      <td>153.33</td>\n",
       "      <td>152.22</td>\n",
       "      <td>153.18</td>\n",
       "      <td>16404088</td>\n",
       "    </tr>\n",
       "    <tr>\n",
       "      <th>2017-08-02</th>\n",
       "      <td>153.97</td>\n",
       "      <td>154.17</td>\n",
       "      <td>152.38</td>\n",
       "      <td>152.76</td>\n",
       "      <td>24451164</td>\n",
       "    </tr>\n",
       "    <tr>\n",
       "      <th>2017-08-03</th>\n",
       "      <td>153.42</td>\n",
       "      <td>154.43</td>\n",
       "      <td>153.33</td>\n",
       "      <td>153.67</td>\n",
       "      <td>20126851</td>\n",
       "    </tr>\n",
       "    <tr>\n",
       "      <th>2017-08-04</th>\n",
       "      <td>154.00</td>\n",
       "      <td>154.24</td>\n",
       "      <td>153.31</td>\n",
       "      <td>153.61</td>\n",
       "      <td>21927637</td>\n",
       "    </tr>\n",
       "    <tr>\n",
       "      <th>2017-08-05</th>\n",
       "      <td>153.73</td>\n",
       "      <td>154.35</td>\n",
       "      <td>153.03</td>\n",
       "      <td>153.87</td>\n",
       "      <td>19235598</td>\n",
       "    </tr>\n",
       "    <tr>\n",
       "      <th>2017-08-06</th>\n",
       "      <td>153.84</td>\n",
       "      <td>154.17</td>\n",
       "      <td>152.67</td>\n",
       "      <td>153.34</td>\n",
       "      <td>19219154</td>\n",
       "    </tr>\n",
       "    <tr>\n",
       "      <th>2017-08-07</th>\n",
       "      <td>154.90</td>\n",
       "      <td>154.90</td>\n",
       "      <td>153.31</td>\n",
       "      <td>153.80</td>\n",
       "      <td>19918871</td>\n",
       "    </tr>\n",
       "  </tbody>\n",
       "</table>\n",
       "</div>"
      ],
      "text/plain": [
       "              Open    High     Low   Close    Volume\n",
       "Date                                                \n",
       "2017-08-01  153.17  153.33  152.22  153.18  16404088\n",
       "2017-08-02  153.97  154.17  152.38  152.76  24451164\n",
       "2017-08-03  153.42  154.43  153.33  153.67  20126851\n",
       "2017-08-04  154.00  154.24  153.31  153.61  21927637\n",
       "2017-08-05  153.73  154.35  153.03  153.87  19235598\n",
       "2017-08-06  153.84  154.17  152.67  153.34  19219154\n",
       "2017-08-07  154.90  154.90  153.31  153.80  19918871"
      ]
     },
     "execution_count": 63,
     "metadata": {},
     "output_type": "execute_result"
    }
   ],
   "source": [
    "# Ist Week data of August \n",
    "df['2017-08-01':'2017-08-07']"
   ]
  },
  {
   "cell_type": "markdown",
   "id": "1b6a4fd3",
   "metadata": {},
   "source": [
    "### Resampling "
   ]
  },
  {
   "cell_type": "code",
   "execution_count": 66,
   "id": "20cd4e47",
   "metadata": {},
   "outputs": [
    {
     "data": {
      "text/plain": [
       "Date\n",
       "2017-07-31    146.944400\n",
       "2017-08-31    149.899032\n",
       "2017-09-30    141.550333\n",
       "2017-10-31    131.200968\n",
       "2017-11-30    116.505000\n",
       "2017-12-31    111.340968\n",
       "2018-01-31    113.467742\n",
       "2018-02-28    107.536786\n",
       "2018-03-31     99.135000\n",
       "Freq: M, Name: Close, dtype: float64"
      ]
     },
     "execution_count": 66,
     "metadata": {},
     "output_type": "execute_result"
    }
   ],
   "source": [
    "#retrieved monthly data\n",
    "df['Close'].resample('M').mean()"
   ]
  },
  {
   "cell_type": "code",
   "execution_count": 72,
   "id": "d7d0818e",
   "metadata": {},
   "outputs": [
    {
     "data": {
      "text/plain": [
       "<AxesSubplot:xlabel='Date'>"
      ]
     },
     "execution_count": 72,
     "metadata": {},
     "output_type": "execute_result"
    },
    {
     "data": {
      "image/png": "[encoded data removed]",
      "text/plain": [
       "<Figure size 432x288 with 1 Axes>"
      ]
     },
     "metadata": {
      "needs_background": "light"
     },
     "output_type": "display_data"
    }
   ],
   "source": [
    "#Plot retrieved Weekly data\n",
    "df['Close'].resample('W').mean().plot()"
   ]
  },
  {
   "cell_type": "code",
   "execution_count": 76,
   "id": "b6a2467d",
   "metadata": {},
   "outputs": [
    {
     "data": {
      "text/plain": [
       "<AxesSubplot:xlabel='Date'>"
      ]
     },
     "execution_count": 76,
     "metadata": {},
     "output_type": "execute_result"
    },
    {
     "data": {
      "image/png": "[encoded data removed]",
      "text/plain": [
       "<Figure size 432x288 with 1 Axes>"
      ]
     },
     "metadata": {
      "needs_background": "light"
     },
     "output_type": "display_data"
    }
   ],
   "source": [
    "#Plot retrieved Weekly data\n",
    "df['Close'].resample('Y').mean().plot(kind='bar')"
   ]
  },
  {
   "cell_type": "code",
   "execution_count": 78,
   "id": "999e7752",
   "metadata": {},
   "outputs": [],
   "source": [
    "S=df['Close']"
   ]
  },
  {
   "cell_type": "code",
   "execution_count": null,
   "id": "401e3e1c",
   "metadata": {},
   "outputs": [],
   "source": []
  },
  {
   "cell_type": "code",
   "execution_count": null,
   "id": "2141d7c3",
   "metadata": {},
   "outputs": [],
   "source": []
  }
 ],
 "metadata": {
  "kernelspec": {
   "display_name": "Python 3 (ipykernel)",
   "language": "python",
   "name": "python3"
  },
  "language_info": {
   "codemirror_mode": {
    "name": "ipython",
    "version": 3
   },
   "file_extension": ".py",
   "mimetype": "text/x-python",
   "name": "python",
   "nbconvert_exporter": "python",
   "pygments_lexer": "ipython3",
   "version": "3.9.7"
  },
  "varInspector": {
   "cols": {
    "lenName": 16,
    "lenType": 16,
    "lenVar": 40
   },
   "kernels_config": {
    "python": {
     "delete_cmd_postfix": "",
     "delete_cmd_prefix": "del ",
     "library": "var_list.py",
     "varRefreshCmd": "print(var_dic_list())"
    },
    "r": {
     "delete_cmd_postfix": ") ",
     "delete_cmd_prefix": "rm(",
     "library": "var_list.r",
     "varRefreshCmd": "cat(var_dic_list()) "
    }
   },
   "types_to_exclude": [
    "module",
    "function",
    "builtin_function_or_method",
    "instance",
    "_Feature"
   ],
   "window_display": false
  }
 },
 "nbformat": 4,
 "nbformat_minor": 5
}
